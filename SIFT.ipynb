{
 "cells": [
  {
   "cell_type": "code",
   "execution_count": 2,
   "metadata": {},
   "outputs": [],
   "source": [
    "import copy\n",
    "import numpy as np\n",
    "import cv2 as cv\n",
    "from matplotlib import pyplot as plt\n",
    "import skimage\n",
    "import glob\n",
    "from tqdm import tqdm"
   ]
  },
  {
   "cell_type": "code",
   "execution_count": 11,
   "metadata": {},
   "outputs": [],
   "source": [
    "class Verifier:\n",
    "\tdef __init__(self, lowe_ratio=0.7, threshold=7):\n",
    "\t\tself.lowe_ratio = lowe_ratio\n",
    "\t\tself.threshold = threshold\n",
    "\n",
    "\tdef __matcher(self, f1, f2):\n",
    "\t\timg1 =cv.imread(f1, cv.IMREAD_GRAYSCALE)\n",
    "\t\timg2 = cv.imread(f2, cv.IMREAD_GRAYSCALE)\n",
    "\n",
    "\t\t# Initiate SIFT detector\n",
    "\t\tsift = cv.SIFT_create()\n",
    "\n",
    "\t\t# find the keypoints and descriptors with SIFT\n",
    "\t\tkp1, des1 = sift.detectAndCompute(img1, None)\n",
    "\t\tkp2, des2 = sift.detectAndCompute(img2, None)\n",
    "\t\tFLANN_INDEX_KDTREE = 1\n",
    "\t\tindex_params = dict(algorithm = FLANN_INDEX_KDTREE, trees = 5)\n",
    "\t\tsearch_params = dict(checks = 50)\n",
    "\t\tflann = cv.FlannBasedMatcher(index_params, search_params)\n",
    "\t\tmatches = flann.knnMatch(des1,des2,k=2)\n",
    "\t\t# store all the good matches as per Lowe's ratio test.\n",
    "\t\tscore = 0\n",
    "\t\tfor m,n in matches:\n",
    "\t\t\tif m.distance < self.lowe_ratio*n.distance:\n",
    "\t\t\t\tscore += 1\n",
    "\n",
    "\t\treturn score\n",
    "\n",
    "\tdef fit(self, x, y):\n",
    "\t\tself.x = np.array(x)\n",
    "\t\tself.y = np.array(y)\n",
    "\n",
    "\tdef predict(self, x, y):\n",
    "\t\tidxs = np.where(self.y == y)\n",
    "\t\tscore = sum(self.__matcher(ref, x) for ref in self.x[idxs])\n",
    "\t\treturn score > self.threshold"
   ]
  },
  {
   "cell_type": "code",
   "execution_count": 49,
   "metadata": {},
   "outputs": [],
   "source": [
    "def loadData(path):\n",
    "\tpaths = np.array(glob.glob(path))\n",
    "\tids = np.array([path.split('/')[1][2] + path.split('/')[-1].split(\"_\")[0] for path in paths])\n",
    "\n",
    "\ttrain_data = []\n",
    "\ttrain_labels = []\n",
    "\ttest_data = []\n",
    "\ttest_labels = []\n",
    "\n",
    "\t# Split into train and test with 50-50 split\n",
    "\tfor id in np.unique(ids):\n",
    "\t\tp = paths[ids == id]\n",
    "\t\tnp.random.seed(2)\n",
    "\t\tnp.random.shuffle(p)\n",
    "\t\ttrain_data.extend(p[4:])\n",
    "\t\ttrain_labels.extend(np.repeat(id, 4))\n",
    "\t\ttest_data.extend(p[:4])\n",
    "\t\ttest_labels.extend(np.repeat(id, 4))\n",
    "\n",
    "\treturn train_data, train_labels, test_data, test_labels"
   ]
  },
  {
   "cell_type": "code",
   "execution_count": 57,
   "metadata": {},
   "outputs": [
    {
     "name": "stderr",
     "output_type": "stream",
     "text": [
      "100%|██████████| 40/40 [00:18<00:00,  2.11it/s]"
     ]
    },
    {
     "name": "stdout",
     "output_type": "stream",
     "text": [
      "[[18.  0.]\n",
      " [ 4. 18.]]\n",
      "Accuracy: 0.9\n"
     ]
    },
    {
     "name": "stderr",
     "output_type": "stream",
     "text": [
      "\n"
     ]
    }
   ],
   "source": [
    "train_data, train_labels, test_data, test_labels = loadData('data/DB1_B/*.tif')\n",
    "\n",
    "v = Verifier(0.6, 20)\n",
    "v.fit(train_data, train_labels)\n",
    "\n",
    "confusion_mat = np.zeros((2, 2))\n",
    "\n",
    "for i, (data, label) in tqdm(list(enumerate(zip(test_data, test_labels)))):\n",
    "\tparity = np.random.choice([0, 1])\n",
    "\tif parity == 0:\n",
    "\t\tlabel = np.random.choice(np.delete(np.unique(train_labels), np.where(np.unique(train_labels) == label)))\n",
    "\tpred = v.predict(data, label)\n",
    "\tconfusion_mat[parity, int(pred)] += 1\n",
    "\n",
    "print(confusion_mat)\n",
    "print(f'Accuracy: {np.sum(np.diag(confusion_mat)) / np.sum(confusion_mat)}')"
   ]
  },
  {
   "cell_type": "code",
   "execution_count": 55,
   "metadata": {},
   "outputs": [
    {
     "name": "stderr",
     "output_type": "stream",
     "text": [
      "100%|██████████| 160/160 [01:09<00:00,  2.32it/s]"
     ]
    },
    {
     "name": "stdout",
     "output_type": "stream",
     "text": [
      "[[78.  0.]\n",
      " [49. 33.]]\n",
      "Accuracy: 0.69375\n"
     ]
    },
    {
     "name": "stderr",
     "output_type": "stream",
     "text": [
      "\n"
     ]
    }
   ],
   "source": [
    "train_data, train_labels, test_data, test_labels = loadData('data/DB*_B/*.tif')\n",
    "\n",
    "v = Verifier(0.6, 20)\n",
    "v.fit(train_data, train_labels)\n",
    "\n",
    "confusion_mat = np.zeros((2, 2))\n",
    "\n",
    "for i, (data, label) in tqdm(list(enumerate(zip(test_data, test_labels)))):\n",
    "\tparity = np.random.choice([0, 1])\n",
    "\tif parity == 0:\n",
    "\t\tlabel = np.random.choice(np.delete(np.unique(train_labels), np.where(np.unique(train_labels) == label)))\n",
    "\tpred = v.predict(data, label)\n",
    "\tconfusion_mat[parity, int(pred)] += 1\n",
    "\n",
    "print(confusion_mat)\n",
    "print(f'Accuracy: {np.sum(np.diag(confusion_mat)) / np.sum(confusion_mat)}')"
   ]
  }
 ],
 "metadata": {
  "kernelspec": {
   "display_name": "Python 3.10.7 ('venv': venv)",
   "language": "python",
   "name": "python3"
  },
  "language_info": {
   "codemirror_mode": {
    "name": "ipython",
    "version": 3
   },
   "file_extension": ".py",
   "mimetype": "text/x-python",
   "name": "python",
   "nbconvert_exporter": "python",
   "pygments_lexer": "ipython3",
   "version": "3.10.7"
  },
  "orig_nbformat": 4,
  "vscode": {
   "interpreter": {
    "hash": "c53a76bbb81857d5bec9900a06443b615ee26a809b6f77dcc3523016d49a533d"
   }
  }
 },
 "nbformat": 4,
 "nbformat_minor": 2
}
